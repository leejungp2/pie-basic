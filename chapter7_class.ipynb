{
 "cells": [
  {
   "cell_type": "markdown",
   "metadata": {},
   "source": [
    "# Chapter 7. 클래스(Class)"
   ]
  },
  {
   "cell_type": "markdown",
   "metadata": {},
   "source": [
    "## 1. 객체지향 프로그래밍(object oriented programming)\n",
    "- 개념: 서로 관련있는 데이터와 함수를 묶어서 '객체'로 만들고 객체들의 상호작용을 통해 프로그램을 설계 및 개발하는 방식\n",
    "- 장점: 코드 재사용 용이\n",
    "- 단점: 실행속도 느림, 용량 커짐\n"
   ]
  },
  {
   "cell_type": "markdown",
   "metadata": {},
   "source": [
    "### 객체지향 프로그래밍에 대한 정의들\n",
    "\n",
    "\n",
    "- 객체 지향 프로그래밍은 컴퓨터 프로그래밍 패러다임중 하나로, 프로그래밍에서 필요한 데이터를 추상화시켜 상태와 행위를 가진 객체를 만들고 그 객체들 간의 유기적인 상호작용을 통해 로직을 구성하는 프로그래밍 방법이다. 출처: https://jeong-pro.tistory.com/95 [기본기를 쌓는 정아마추어 코딩블로그]\n",
    "\n",
    "- 프로그램을 단순히 데이터와 처리 방법으로 나누는 것이 아니라, 프로그램을 수많은 '객체(object)'라는 기본 단위로 나누고 이들의 상호작용으로 서술하는 방식이다. 객체란 하나의 역할을 수행하는 '메소드와 변수(데이터)'의 묶음으로 봐야 한다. https://namu.wiki\n",
    "\n",
    "- 객체 지향 프로그래밍(영어: Object-Oriented Programming, OOP)은 컴퓨터 프로그래밍의 패러다임 중 하나이다. 객체 지향 프로그래밍은 컴퓨터 프로그램을 명령어의 목록으로 보는 시각에서 벗어나 여러 개의 독립된 단위, 즉 \"객체\"들의 모임으로 파악하고자 하는 것이다. 각각의 객체는 메시지를 주고받고, 데이터를 처리할 수 있다. https://ko.wikipedia.org/wiki\n",
    "\n",
    "- 실세계의 현상을 컴퓨터상에 객체로서 실현(모델화)함으로써 컴퓨터를 자연스러운 형태로 사용하여 다양한 문제를 해결하기 위한 프로그램 기법. <정보통신용어사전(한국정보통신기술협회)>\n",
    "\n",
    "- 데이터 타입과 객체를 이용해 실세계나 개념을 모델링하도록 강조하는 프로그래밍 스타일 < Introduction to programing in python >\n",
    "\n",
    "\n",
    "### 관련 용어\n",
    "\n",
    "< MIT 6.00 Introduction to Computer Science and Programming Fall 2008, Instructors: Prof. Eric Grimson, Prof. John Guttag>\n",
    "- module = collection of related functions\n",
    "- Refer to functions using . notation\n",
    "- object = collection of data and functions\n",
    "\n",
    "<정보통신용어사전(한국정보통신기술협회)>\n",
    "- 클래스 : 객체 지향 프로그래밍(OOP)에서 객체 내부의 데이터 구조와 그 조작을 정리하여 정의한 것.\n",
    "- 객체 : 객체 지향 프로그래밍이나 설계에서, 데이터(실체)와 그 데이터에 관련되는 동작(절차, 방법, 기능)을 모두 포함한 개념. 예를 들어 기차역에서의 승차권 발매를 생각할 때, 실체인 ‘손님’과 동작인 ‘승차권 주문’은 하나의 객체이다.\n",
    "- 추상화 : 컴퓨터 과학 분야에서 주어진 문제나 시스템의 복잡도를 단순화하여 인식하기 쉽게 만드는 개념화 작업.\n",
    "- 정적 바인딩 : 컴파일 시간에 프로그램 요소의 속성을 결정함\n",
    "- 동적 바인딩 : 프로그램 실행중에 수행되는 바인딩"
   ]
  },
  {
   "cell_type": "markdown",
   "metadata": {},
   "source": [
    "### 1-1. 서두\n",
    "\n",
    "- 파이썬에서는 여러 데이터 타입을 정의하고 있다.\n",
    "- 그러나 이러한 테이터 타입도 우리가 사용하고자 하는 데이터 타입을 모두 제공할 수는 없다.\n",
    "- 우리에게 필요한 데이터 타입을 직접 정의할 수 있어야 한다."
   ]
  },
  {
   "cell_type": "markdown",
   "metadata": {},
   "source": [
    "### 1-2. 데이터 타입\n",
    "\n",
    "- 개념: 일련의 데이터 값과 이 값에 정의된 일련의 연산\n",
    "- 구현: 파이썬에서 데이터 타입은 클래스(class)를 이용해 구현\n",
    "- 어떠한 데이터 타입을 구현하든 시작은 모두 API"
   ]
  },
  {
   "cell_type": "markdown",
   "metadata": {},
   "source": [
    "### 1-3. API\n",
    "\n",
    "- 개념:\n",
    "    - 모듈화 프로그래밍에서 구현(implementation)과 모든 클라이언트 간의 계약\n",
    "    - 클라이언트가 데이터 타입을 사용하는 방법을 정리한 일련의 연산 명세서\n",
    "- 구현: 재사용하기 위해 만들어진 일련의 함수 코드를 지칭 - 모듈은 일종의 구현\n",
    "- 클라이언트 : 구현된 모듈을 이용하는 프로그램\n",
    "    - 클라이언트를 작성 할 수 있는 이유: 모듈에 사용할 함수 시그너처와 함께 함수가 어떤 일을 하는지 설명한 비공식적인 계약 사항이 명시되어 있었기 때문"
   ]
  },
  {
   "cell_type": "markdown",
   "metadata": {},
   "source": [
    "## 2. 클래스(class)\n",
    "- 개념:\n",
    "    - 동일한 종류의 무언가를 계속 만들어 낼 수 있는 객체에 대한 설계도, 특정한 종류의 객체를 찍어내는 틀\n",
    "    - 사용자 정의 데이터 타입을 구현하기 위한 파이썬 구조로서, API에 명시된 데이터 타입의 값을 가진 객체를 생성하고 조작\n",
    "    - 새로운 이름 공간을 지원하는 단위\n",
    "        - 이름 공간에는 함수, 변수가 포함될 수 있음\n",
    "        - 새로운 자료형을 만드는 것\n",
    "\n",
    "\n",
    "### 클래스 선언\n",
    "        class 클래스 이름:\n",
    "        클래스 내용"
   ]
  },
  {
   "cell_type": "markdown",
   "metadata": {},
   "source": [
    "## 3. 객체(object), 인스턴스(instance)\n",
    "- 객체(object): 클래스로 만들어진 모든 것\n",
    "    - 객체마다 고유한 성질을 가짐\n",
    "    - 동일한 클래스로 만든 객체는 서로 영향을 주지 않음\n",
    "- 인스턴스(instance): 클래스를 호출하여 생성되는 객체\n",
    "    - 인스턴스는 특정 개체가 어떤 클래스의 객체인지를 관계 위주로 설명할 때 사용\n",
    "\n",
    "### 인스턴스 생성\n",
    "        인스턴스 이름 = 클래스 이름()\n",
    "\n",
    "### 예시\n",
    "- 객체\n",
    "> bubbles = PowerPuff()로 만든 bubbles는 객체\n",
    "- 인스턴스\n",
    "> bubbles는  PowerPuff의 인스턴스\n",
    "- 인스턴스 변수\n",
    "> bubbles = PowerPuff()에서 bubbles"
   ]
  },
  {
   "cell_type": "code",
   "execution_count": 20,
   "metadata": {},
   "outputs": [],
   "source": [
    "#예시\n",
    "#빨강, 노랑, 파랑 젤리 객체 생성\n",
    "#각 젤리는 PowerPuff의 인스턴스\n",
    "\n",
    "#개별 객체를 변수로 생성하는 방식 (cf. 리스트로 생성)\n",
    "#동일한 클래스에 속하지만, 독립적으로 작동해야 하는 개체를 개별적으로 관리할 때 유리\n",
    "blossom = PowerPuff()\n",
    "bubbles = PowerPuff()\n",
    "buttercup = PowerPuff()"
   ]
  },
  {
   "cell_type": "markdown",
   "metadata": {},
   "source": [
    "## 4. 메소드(method)\n",
    "- 개념: 클래스 공간에 정의된 함수\n",
    "    - special method : 함수 이름에 __ 이 들어간 method\n",
    "    - ordinary method : 함수 이름에 __ 없는 일반 method\n",
    "- 멤버(member): 인스턴스 변수 + 메소드 \n",
    "- 속성(attribute): 멤버와 메소드 전체를 가리킴\n",
    "\n",
    "### 선언\n",
    "        class 클래스 이름:\n",
    "            def 메소드 이름(self, 추가적인 매개변수):\n",
    "                pass\n"
   ]
  },
  {
   "cell_type": "code",
   "execution_count": 19,
   "metadata": {},
   "outputs": [],
   "source": [
    "#클래스 선언\n",
    "class PowerPuff:\n",
    "    def set_info(self, name, color):\n",
    "        self.name = name\n",
    "        self.color = color\n",
    "    \n",
    "    def print_info(self):\n",
    "        print(\"================\")\n",
    "        print(\"Name: \", self.name)\n",
    "        print(\"Color: \", self.color)\n",
    "        print(\"================\")"
   ]
  },
  {
   "cell_type": "code",
   "execution_count": 9,
   "metadata": {},
   "outputs": [
    {
     "name": "stdout",
     "output_type": "stream",
     "text": [
      "bubbles\n"
     ]
    }
   ],
   "source": [
    "#객체 선언\n",
    "bubbles = PowerPuff()\n",
    "#메소드 사용\n",
    "bubbles.set_info(\"bubbles\", \"yellow\")"
   ]
  },
  {
   "cell_type": "code",
   "execution_count": 10,
   "metadata": {},
   "outputs": [
    {
     "name": "stdout",
     "output_type": "stream",
     "text": [
      "bubbles\n"
     ]
    }
   ],
   "source": [
    "#속성 접근\n",
    "print(bubbles.name)"
   ]
  },
  {
   "cell_type": "code",
   "execution_count": 11,
   "metadata": {},
   "outputs": [
    {
     "name": "stdout",
     "output_type": "stream",
     "text": [
      "================\n",
      "Name:  bubbles\n",
      "Color:  yellow\n",
      "================\n"
     ]
    }
   ],
   "source": [
    "bubbles.print_info()"
   ]
  },
  {
   "cell_type": "markdown",
   "metadata": {},
   "source": [
    "## 5. 생성자(constructor)\n",
    "- 개념:\n",
    "    - 객체를 초기화하는 메소드\n",
    "    - 클래스로부터 인스턴스를 생성할 때 디폴트로 호출되는 함수\n",
    "- 클래스를 실행하면 가장 먼저 생성자인 '__ init__' 함수가 호출\n",
    "- '__ init__' 함수는 인스턴스의 생성과 동시에 __필요한 정보를 입력 받도록__ 구현하는 역할\n",
    "\n",
    "        class 클래스 이름:\n",
    "            def __ init__(self, 추가적인 매개변수):\n",
    "                pass\n",
    "\n",
    "- 클래스 내부 함수의 첫 번째 매개변수는 반드시 self 입력\n",
    "    - 객체를 호출할 때 호출한 객체 자신이 전달되므로 self 사용(reference to invoking object)\n"
   ]
  },
  {
   "cell_type": "code",
   "execution_count": 16,
   "metadata": {},
   "outputs": [],
   "source": [
    "class MacaronShop:\n",
    "    def __init__(self, color, taste):\n",
    "        self.color = color\n",
    "        self.taste = taste"
   ]
  },
  {
   "cell_type": "code",
   "execution_count": null,
   "metadata": {},
   "outputs": [],
   "source": [
    "# 리스트에 객체를 담는 방식\n",
    "macaron = [\n",
    "    MacaronShop(\"red\", \"strawberry\"),\n",
    "    MacaronShop(\"yellow\", \"banana\"),\n",
    "    MacaronShop(\"green\", \"pistachio\")\n",
    "]"
   ]
  },
  {
   "cell_type": "code",
   "execution_count": 18,
   "metadata": {},
   "outputs": [
    {
     "name": "stdout",
     "output_type": "stream",
     "text": [
      "red\n",
      "pistachio\n"
     ]
    }
   ],
   "source": [
    "print(macaron[0].color)\n",
    "print(macaron[2].taste)"
   ]
  },
  {
   "cell_type": "code",
   "execution_count": 4,
   "metadata": {},
   "outputs": [
    {
     "name": "stdout",
     "output_type": "stream",
     "text": [
      "카운터의 값 = 1\n"
     ]
    }
   ],
   "source": [
    "#예시 2 - \n",
    "class Counter:\n",
    "    def __init__(self):\n",
    "        self.count = 0\n",
    "    def increment(self):\n",
    "        self.count += 1\n",
    "\n",
    "a = Counter() #객체 1개\n",
    "a.increment()\n",
    "print(\"카운터의 값 =\", a.count) "
   ]
  },
  {
   "cell_type": "markdown",
   "metadata": {},
   "source": [
    "## 6. 상속(inheritance)\n",
    "### 6-1. 개념\n",
    "- 개념: 새로운 클래스를 만들 때 기존 클래스의 기능을 물려받을 수 있음\n",
    "    - 상위 클래스를 '부모 클래스(paraent class, super class)'라고 표현\n",
    "    - 하위 클래스를 '자식 클래스(child class, sub class)라고 표현\n",
    "- 상속 이유\n",
    "    - 기존 클래스를 변경하지 않고 기능 추가/기존 기능 변경 시 사용\n",
    "    - 기존 클래스가 라이브러리의 형태로 직용되거나, 수정이 허용되지 않는 상황에 허용\n",
    "- 상속 선언\n",
    "    - 자식 클래스를 선언할 때 소괄호로 부모 클래스 포함\n",
    "    - 그러면 자식 클래스에서는 부모 클래스의 속성과 메소드는 따로 기재하지 않아도 자동 포함"
   ]
  },
  {
   "cell_type": "markdown",
   "metadata": {},
   "source": [
    "### 6-2. 메소드(함수) 오버라이딩\n",
    "- 개념: 부모 클래스의 메소드를 자식 클래스에서 재정의하는 것\n",
    "- 일반적인 경우: 자식 클래스에서 생성된 객체의 메소드를 부르면 부모클래스의 메소드 무시\n",
    "- 특별한 경우 - 부모 메소드 호출:\n",
    "    - 부모 클래스의 메소드도 수행하고 자식 클래스의 메소드도 함께 수행하고 싶을 때 사용\n",
    "    - super() 키워드 사용하여 자식 클래스 내에서 부모 클래스 호출 가능"
   ]
  },
  {
   "cell_type": "code",
   "execution_count": 6,
   "metadata": {},
   "outputs": [],
   "source": [
    "#부모 클래스 선언\n",
    "class Macaron:\n",
    "    def __init__(self, color, taste):\n",
    "        self.color = color\n",
    "        self.taste = taste\n",
    "    \n",
    "    def print_info(self):\n",
    "        print(\"부모 클래스입니다.\")\n",
    "        print(\"마카롱\")\n",
    "        \n",
    "#자식 클래스 선언\n",
    "#자식 클래스를 선언할 때 소괄호로 부모 클래스 포함\n",
    "# 일반적인 메소드 오버라이딩\n",
    "# 자식 클래스에서 생성된 메소드로 부모 클래스의 메소드 무시\n",
    "class Thincaron(Macaron):\n",
    "    def print_info(self):\n",
    "        print(\"자식 클래스입니다.\")\n",
    "        print(\"얇카롱\")\n",
    "        print(\"Taste: \", self.taste)\n",
    "        print(\"Color: \", self.color)\n",
    "\n",
    "#부모 메소드 호출\n",
    "#super() 키워드를 사용하여 자식 클래스에서 부모 클래스 호출 가능\n",
    "class Doongcaron(Macaron):\n",
    "    def print_info(self):\n",
    "        super().print_info()\n",
    "        print(\"자식 클래스입니다.\")\n",
    "        print(\"뚱카롱\")\n",
    "        print(\"Taste: \", self.taste)\n",
    "        print(\"Color: \", self.color)"
   ]
  },
  {
   "cell_type": "code",
   "execution_count": 7,
   "metadata": {},
   "outputs": [
    {
     "name": "stdout",
     "output_type": "stream",
     "text": [
      "부모 클래스입니다.\n",
      "마카롱\n"
     ]
    }
   ],
   "source": [
    "#부모 클래스로 객체 생성\n",
    "red_macaron = Macaron(\"red\", \"strawberry\")\n",
    "red_macaron.print_info()"
   ]
  },
  {
   "cell_type": "code",
   "execution_count": 9,
   "metadata": {},
   "outputs": [
    {
     "name": "stdout",
     "output_type": "stream",
     "text": [
      "자식 클래스입니다.\n",
      "얇카롱\n",
      "Taste:  pistachio\n",
      "Color:  green\n"
     ]
    }
   ],
   "source": [
    "# 자식 클래스로 객체 생성\n",
    "# 자식 클래스에서 생성된 메소드로 부모 클래스의 메소드 무시\n",
    "green_macaron = Thincaron(\"green\", \"pistachio\")\n",
    "green_macaron.print_info()"
   ]
  },
  {
   "cell_type": "code",
   "execution_count": 11,
   "metadata": {},
   "outputs": [
    {
     "name": "stdout",
     "output_type": "stream",
     "text": [
      "부모 클래스입니다.\n",
      "마카롱\n",
      "자식 클래스입니다.\n",
      "뚱카롱\n",
      "Taste:  banana\n",
      "Color:  yellow\n"
     ]
    }
   ],
   "source": [
    "# 자식 클래스로 객체 생성\n",
    "# super() 키워드를 사용하여 자식 클래스에서 부모 클래스 호출 가능\n",
    "yellow_macaron = Doongcaron(\"yellow\", \"banana\")\n",
    "yellow_macaron.print_info()\n"
   ]
  },
  {
   "cell_type": "markdown",
   "metadata": {},
   "source": [
    "### 6-3. 다중 상속\n",
    "- 개념: 자식 클래스를 선언할 때 소괄호로 원하는 부모 클래스를 모두 포함\n",
    "- 다중 상속의 개수 제한 없음\n",
    "\n",
    "        class 부모 클래스1:\n",
    "            pass\n",
    "        class 자식 클래스(부모 클래스 1, 부모 클래스 2):\n",
    "            pass"
   ]
  }
 ],
 "metadata": {
  "kernelspec": {
   "display_name": "base",
   "language": "python",
   "name": "python3"
  },
  "language_info": {
   "codemirror_mode": {
    "name": "ipython",
    "version": 3
   },
   "file_extension": ".py",
   "mimetype": "text/x-python",
   "name": "python",
   "nbconvert_exporter": "python",
   "pygments_lexer": "ipython3",
   "version": "3.8.8"
  }
 },
 "nbformat": 4,
 "nbformat_minor": 2
}
