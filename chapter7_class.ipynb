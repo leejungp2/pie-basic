{
 "cells": [
  {
   "cell_type": "markdown",
   "metadata": {},
   "source": []
  },
  {
   "cell_type": "markdown",
   "metadata": {},
   "source": []
  },
  {
   "cell_type": "markdown",
   "metadata": {},
   "source": []
  },
  {
   "cell_type": "markdown",
   "metadata": {},
   "source": [
    "# 클래스\n",
    "### 서두\n",
    "< Introduction to Programing in Python, Robert Sedgewic, Kevin Wayne, Robert Dondero >\n",
    "\n",
    "- 파이썬에서는 여러 데이터 타입을 정의하고 있다.\n",
    "\n",
    "- 그러나 이러한 테이터 타입도 우리가 사용하고자 하는 데이터 타입을 모두 제공할 순 없다.\n",
    "\n",
    "- 우리에게 필요한 데이터 타입을 직접 정의할 수 있어야 한다."
   ]
  },
  {
   "cell_type": "markdown",
   "metadata": {},
   "source": [
    "클래스 정의 : class\n",
    "\n",
    "instance variables : self._rx, self.a, self.item, self.x, self.y\n",
    "\n",
    "methods : def 라는 말이있어야 함, 매개변수에 self가 있어야 함\n",
    "\n",
    "constructor : 함수 이름이 __ init __  로 시작하면서, 매개변수에 self 가 있음\n",
    "\n",
    "self : reference to invoking object\n",
    "\n",
    "special method : 함수 이름에 __ 이 들어간 method\n",
    "\n",
    "ordinary method : 함수 이름에 __ 없는 일반 method"
   ]
  },
  {
   "cell_type": "markdown",
   "metadata": {},
   "source": [
    "## 2. 데이터 타입\n",
    "\n",
    "< Introduction to Programing in Python, Robert Sedgewic, Kevin Wayne, Robert Dondero >\n",
    "\n",
    "- 데이터 타입은 일련의 데이터 값과 이 값에 정의된 일련의 연산이다.\n",
    "\n",
    "- 파이썬에서 데이터 타입은 클래스를 이용해 구현한다.\n",
    "\n",
    "- 데이터 타입의 정의할 때는 먼저 API를 정의해야 한다.\n",
    "\n",
    "- 어떠한 데이터 타입을 구현하든 시작은 모두 API다.\n",
    "\n"
   ]
  },
  {
   "cell_type": "markdown",
   "metadata": {},
   "source": [
    "## 3.API\n",
    "\n",
    "- API 는 모듈화 프로그래밍에서 구현(implementation)과 모든 클라이언트 간의 계약이다.\n",
    "\n",
    "- 구현 : 재사용하기 위해 만들어진 일련의 함수 코드를 지칭, 모듈은 일종의 구현이다.\n",
    "\n",
    "- 클라이언트 : 구현된 모듈을 이용하는 프로그램\n",
    "\n",
    "- 클라이언트를 작성 할 수 있는 이유 : 모듈에 사용할 함수 시그너처와 함께 함수가 어떤 일을 하는지 설명한 비공식적인 계약 사항이 명시되어 있었기 때문이다.\n",
    "\n",
    "- 이런한 정보를 통틀어 애플리케이션 프로그래밍 인터페이스(API) 라 한다.\n",
    "\n",
    "- 클라이언트가 데이터 타입을 사용하는 방법을 정리한 일련의 연산 명세서"
   ]
  },
  {
   "cell_type": "markdown",
   "metadata": {},
   "source": [
    "- 클래스 : 사용자 정의 데이터 타입을 구현하기 위한 파이썬 구조로서, API에 명시된 데이터 타입의 값을 가진 객체를 생성하고 조작한다.\n",
    "\n",
    "- Our class defines a constructor, instance variables, and methods.\n",
    "\n",
    "- 인스턴스 변수는 클래스의 특정 인스턴스(즉, 어떤 객체)에 속한다. 클래스에 정의되어 있지만 특정 메서드에 속하지 않는 변수로서, 데이터 타입의 값을 나타낸다.\n",
    "\n",
    "- 객체 : 정체성, 데이터 타입, 값을 가지고 있으며 특정 데이터 타입의 값을 컴퓨터 메모리 안에 표현한 것\n",
    "\n",
    "- 인스턴스 : 어떤 클래스의 특정 객체\n"
   ]
  },
  {
   "cell_type": "markdown",
   "metadata": {},
   "source": [
    "**객체지향 프로그래밍에 대한 정의들**\n",
    "\n",
    "\n",
    "- 객체 지향 프로그래밍은 컴퓨터 프로그래밍 패러다임중 하나로, 프로그래밍에서 필요한 데이터를 추상화시켜 상태와 행위를 가진 객체를 만들고 그 객체들 간의 유기적인 상호작용을 통해 로직을 구성하는 프로그래밍 방법이다. 출처: https://jeong-pro.tistory.com/95 [기본기를 쌓는 정아마추어 코딩블로그]\n",
    "\n",
    "- 프로그램을 단순히 데이터와 처리 방법으로 나누는 것이 아니라, 프로그램을 수많은 '객체(object)'라는 기본 단위로 나누고 이들의 상호작용으로 서술하는 방식이다. 객체란 하나의 역할을 수행하는 '메소드와 변수(데이터)'의 묶음으로 봐야 한다. https://namu.wiki\n",
    "\n",
    "- 객체 지향 프로그래밍(영어: Object-Oriented Programming, OOP)은 컴퓨터 프로그래밍의 패러다임 중 하나이다. 객체 지향 프로그래밍은 컴퓨터 프로그램을 명령어의 목록으로 보는 시각에서 벗어나 여러 개의 독립된 단위, 즉 \"객체\"들의 모임으로 파악하고자 하는 것이다. 각각의 객체는 메시지를 주고받고, 데이터를 처리할 수 있다. https://ko.wikipedia.org/wiki\n",
    "\n",
    "- 실세계의 현상을 컴퓨터상에 객체로서 실현(모델화)함으로써 컴퓨터를 자연스러운 형태로 사용하여 다양한 문제를 해결하기 위한 프로그램 기법. <정보통신용어사전(한국정보통신기술협회)>\n",
    "\n",
    "- 데이터 타입과 객체를 이용해 실세계나 개념을 모델링하도록 강조하는 프로그래밍 스타일 < Introduction to programing in python >\n",
    "\n",
    "**관련용어**\n",
    "\n",
    "\n",
    "< MIT 6.00 Introduction to Computer Science and Programming, Fall 2008, Instructors: Prof. Eric Grimson, Prof. John Guttag>\n",
    "\n",
    "- module = collection of related functions\n",
    "\n",
    "- Refer to functions using . notation\n",
    "\n",
    "- object = collection of data and functions\n",
    "\n",
    "<정보통신용어사전(한국정보통신기술협회)>\n",
    "\n",
    "- 클래스 : 객체 지향 프로그래밍(OOP)에서 객체 내부의 데이터 구조와 그 조작을 정리하여 정의한 것.\n",
    "\n",
    "- 객체 : 객체 지향 프로그래밍이나 설계에서, 데이터(실체)와 그 데이터에 관련되는 동작(절차, 방법, 기능)을 모두 포함한 개념.\n",
    "예를 들어 기차역에서의 승차권 발매를 생각할 때, 실체인 ‘손님’과 동작인 ‘승차권 주문’은 하나의 객체이다.\n",
    "\n",
    "- 추상화 : 컴퓨터 과학 분야에서 주어진 문제나 시스템의 복잡도를 단순화하여 인식하기 쉽게 만드는 개념화 작업.\n",
    "\n",
    "- 정적 바인딩 : 컴파일 시간에 프로그램 요소의 속성을 결정함\n",
    "\n",
    "- 동적 바인딩 : 프로그램 실행중에 수행되는 바인딩"
   ]
  },
  {
   "cell_type": "markdown",
   "metadata": {},
   "source": []
  },
  {
   "cell_type": "markdown",
   "metadata": {},
   "source": [
    "## 5.클래스\n",
    "\n",
    "<파이썬3 바이블, 이강성>\n",
    "\n",
    "- 클래스는 새로운 이름 공간을 지원하는 단위이다.\n",
    "\n",
    "- 이 이름 공간에는 함수와 변수가 포함될 수 있다.\n",
    "\n",
    "- 클래스를 정의하는 것은 새로운 자료형을 하나 만드는 것이다.\n",
    "\n",
    "- 인스턴스는 이 자료형의 객체를 생성하는 것이다.\n",
    "\n",
    "- 클래스 인스턴스 : 클래스를 호출하여 생성된 객체이다.\n",
    "\n",
    "- 클래스 인스턴스는 클래스의 실제 객체이다.\n",
    "\n",
    "- 클래스 인스턴스 객체 : 클래스 인스턴스와 같은 의미이다. 인스턴스 객체라고 부르기도 한다.\n",
    "\n",
    "- 멤버 : 클래스 혹은 클래스 인스턴스 공간에 정의된 변수이다.\n",
    "\n",
    "- 메서드 : 클래스 공간에 정의된 함수이다.\n",
    "\n",
    "- 속성(Attribute) : 멤버와 메서드 전체를 가리킨다.\n",
    "\n"
   ]
  },
  {
   "cell_type": "markdown",
   "metadata": {},
   "source": [
    "객체 = 인스턴스 = 클래스에 의해 만들어진 것"
   ]
  }
 ],
 "metadata": {
  "language_info": {
   "name": "python"
  }
 },
 "nbformat": 4,
 "nbformat_minor": 2
}
