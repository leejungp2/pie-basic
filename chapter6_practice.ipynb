{
 "cells": [
  {
   "cell_type": "markdown",
   "metadata": {},
   "source": [
    "# 파이썬 for Beginner"
   ]
  },
  {
   "cell_type": "markdown",
   "metadata": {},
   "source": [
    "### 1. 다음 함수를 만드시오.\n",
    "<출력 결과> input = 2\n",
    "\n",
    "A손님, 어떤 커피 드릴까요?(1: 보통, 2: 설탕, 3: 블랙)\n",
    "\n",
    "#1. (자동으로) 뜨거운 물을 준비한다.\n",
    "\n",
    "#2. (자동으로) 종이컵을 준비한다.\n",
    "\n",
    "#3. (자동으로) 설탕커피를 탄다.\n",
    "\n",
    "#4. (자동으로) 물을 붓는다.\n",
    "\n",
    "#5. (자동으로) 스푼으로 젓는다.\n",
    "\n",
    "A손님 ~ 커피 여기 있습니다.\n",
    "\n",
    "B손님, 어떤 커피 드릴까요?(1: 보통, 2: 설탕, 3: 블랙)\n",
    "\n",
    "---생략---"
   ]
  },
  {
   "cell_type": "code",
   "execution_count": null,
   "metadata": {},
   "outputs": [],
   "source": [
    "def coffeeCall():\n",
    "    print(\"#1. (자동으로) 뜨거운 물을 준비한다.\")\n",
    "    print(\"#2. (자동으로) 종이컵을 준비한다.\")\n",
    "    print(\"#3. (자동으로) f{}커피를 탄다.\")\n",
    "    print(\"#4. (자동으로) 물을 붓는다.\")\n",
    "    print(\"#5. (자동으로) 스푼으로 젓는다.\")\n",
    "\n",
    "def giveCoffee(coffee):\n",
    "    if coffee == 2:\n",
    "        "
   ]
  },
  {
   "cell_type": "code",
   "execution_count": null,
   "metadata": {},
   "outputs": [],
   "source": []
  },
  {
   "cell_type": "markdown",
   "metadata": {},
   "source": [
    "# **자기 주도 학습 복습 과제 - 문제**\n",
    "* 문제를 풀고 답을 확인하세요 :)\n",
    "* 정답지에 자세히 설명되어 있습니다.\n",
    "* [정답지 링크](https://drive.google.com/file/d/1tGroktitLl7-L-a-Y_-PTkgh2jO8b4qA/view?usp=sharing) "
   ]
  },
  {
   "cell_type": "markdown",
   "metadata": {},
   "source": [
    "## **1. 함수 문제 (1)**\n",
    "\n",
    "* 디폴트 매개변수\n",
    "\n"
   ]
  },
  {
   "cell_type": "code",
   "execution_count": null,
   "metadata": {},
   "outputs": [],
   "source": [
    "# 1) multiplication 함수 정의\n",
    "#    - 매개변수 a, b 중에서 b는 2로 디폴트 매개변수로 정의\n",
    "#    - a * b로 계산하여 출력"
   ]
  },
  {
   "cell_type": "code",
   "execution_count": null,
   "metadata": {},
   "outputs": [],
   "source": [
    "# 2) multiplication 함수를 호출하여 인수로 3과 6 입력하여 c 변수에 저장하여 출력\n",
    "\n"
   ]
  },
  {
   "cell_type": "code",
   "execution_count": null,
   "metadata": {},
   "outputs": [],
   "source": [
    "# 3) multiplication 함수를 호출하여 인수로 3 입력하여 c 변수에 저장하여 출력\n",
    "\n"
   ]
  },
  {
   "cell_type": "markdown",
   "metadata": {},
   "source": [
    "## **2. 함수 문제 (2)**\n",
    "\n",
    "* 가변 매개변수\n",
    "\n"
   ]
  },
  {
   "cell_type": "code",
   "execution_count": null,
   "metadata": {},
   "outputs": [],
   "source": [
    "# 1) 바구니에 든 과일을 출력하는 basket 함수 정의\n",
    "#    - fruits는 가변 매개변수명\n",
    "#    - 함수의 첫 줄은 \"바구니에 든 과일은? \" 문자열 출력\n",
    "#    - fruits 매개변수에 값으로 가져온 인수들을 하나씩 출력하는 반복문 구현\n",
    "\n",
    "\n",
    "\n",
    "\n"
   ]
  },
  {
   "cell_type": "code",
   "execution_count": null,
   "metadata": {},
   "outputs": [],
   "source": [
    "# 2) basket 함수 호출\n",
    "#    - 인수로 'apple', 'strawberry', 'melon' 입력 \n"
   ]
  },
  {
   "cell_type": "markdown",
   "metadata": {},
   "source": [
    "## **3. 함수 문제 (3)**\n",
    "\n",
    "* 키워드 매개변수\n",
    "\n"
   ]
  },
  {
   "cell_type": "code",
   "execution_count": null,
   "metadata": {},
   "outputs": [],
   "source": [
    "# 1) multiplication 함수 정의\n",
    "#    - 매개변수 a, b, c는 각각 1, 2, 3 값을 디폴트 매개변수 설정\n",
    "#    - a * b * c로 계산하여 출력\n"
   ]
  },
  {
   "cell_type": "code",
   "execution_count": null,
   "metadata": {},
   "outputs": [],
   "source": [
    "# 2) b=5, a=3, c=2 순서로 키워드 매개변수 특징을 이용하여 multiplication 함수 호출\n"
   ]
  }
 ],
 "metadata": {
  "language_info": {
   "name": "python"
  }
 },
 "nbformat": 4,
 "nbformat_minor": 2
}
