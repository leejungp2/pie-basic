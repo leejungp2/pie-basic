{
 "cells": [
  {
   "cell_type": "markdown",
   "metadata": {},
   "source": [
    "# **패스트캠퍼스 강의 복습 과제**\n",
    "* 강의명: <Selena 한 번에 따라하는 파이썬 강의>"
   ]
  },
  {
   "cell_type": "markdown",
   "metadata": {},
   "source": [
    "## **1. 클래스 문제 (1)**\n",
    "\n",
    "* 클래스 선언\n",
    "\n"
   ]
  },
  {
   "cell_type": "code",
   "execution_count": null,
   "metadata": {},
   "outputs": [],
   "source": [
    "# 1) Parents 클래스 선언\n",
    "#    - 생성자 선언 : name, role, job\n",
    "#    - 'print_info' 메소드 선언 : Parents 클래스 속성 출력\n",
    "\n",
    "\n",
    "\n",
    "\n",
    "\n",
    "\n",
    "\n",
    "\n",
    "\n",
    "\n"
   ]
  },
  {
   "cell_type": "markdown",
   "metadata": {},
   "source": [
    "## **2. 클래스 문제 (2)**\n",
    "\n",
    "* 객체 선언\n",
    "\n"
   ]
  },
  {
   "cell_type": "code",
   "execution_count": null,
   "metadata": {},
   "outputs": [],
   "source": [
    "# 1) Parents 클래스 이용하여 father 객체 선언\n",
    "#    - name : Jay\n",
    "#    - role : father\n",
    "#    - job : engineer\n"
   ]
  },
  {
   "cell_type": "code",
   "execution_count": null,
   "metadata": {},
   "outputs": [],
   "source": [
    "# 2) Parents 클래스 이용하여 mother 객체 선언\n",
    "#    - name : Mini\n",
    "#    - role : mother\n",
    "#    - job : data scientist\n"
   ]
  },
  {
   "cell_type": "markdown",
   "metadata": {},
   "source": [
    "## **3. 클래스 문제 (3)**\n",
    "\n",
    "* 객체 속성 값 출력\n",
    "\n"
   ]
  },
  {
   "cell_type": "code",
   "execution_count": null,
   "metadata": {},
   "outputs": [],
   "source": [
    "# 1) father 객체에 print_info 메소드를 이용하여 속성 값 출력\n"
   ]
  },
  {
   "cell_type": "code",
   "execution_count": null,
   "metadata": {},
   "outputs": [],
   "source": [
    "# 2) mother 객체에 print_info 메소드를 이용하여 속성 값 출력\n"
   ]
  },
  {
   "cell_type": "markdown",
   "metadata": {},
   "source": [
    "## **4. 클래스 문제 (4)**\n",
    "\n",
    "* 상속을 위한 자식 클래스 선언\n",
    "\n"
   ]
  },
  {
   "cell_type": "code",
   "execution_count": null,
   "metadata": {},
   "outputs": [],
   "source": [
    "# 1) Child 클래스 선언\n",
    "#    - Parents 클래스 이용하여 상속 받기\n",
    "#    - 'print_info' 메소드 재정의 \n",
    "#         * Parents 클래스의 'print_info' 메소드 호출\n",
    "#         * Child 자체'print_info' 메소드 재정의\n",
    "#              - \"자식 클래스입니다.\" 문자열 출력\n",
    "\n",
    "\n",
    "\n"
   ]
  },
  {
   "cell_type": "markdown",
   "metadata": {},
   "source": [
    "## **5. 클래스 문제 (5)**\n",
    "\n",
    "* 객체 선언\n",
    "\n"
   ]
  },
  {
   "cell_type": "code",
   "execution_count": null,
   "metadata": {},
   "outputs": [],
   "source": [
    "# 1) Child 클래스로 daughter 객체 생성\n",
    "#    - name : Bibi\n",
    "#    - role : daughter\n",
    "#    - job : elementary student\n"
   ]
  },
  {
   "cell_type": "markdown",
   "metadata": {},
   "source": [
    "## **6. 클래스 문제 (6)**\n",
    "\n",
    "* 객체 속성 값 출력"
   ]
  },
  {
   "cell_type": "code",
   "execution_count": null,
   "metadata": {},
   "outputs": [],
   "source": [
    "# 1) daughter 객체에 print_info 메소드를 이용하여 속성 값 출력\n"
   ]
  },
  {
   "cell_type": "code",
   "execution_count": null,
   "metadata": {},
   "outputs": [],
   "source": [
    "def coffeeCall():\n",
    "    print(\"#1. (자동으로) 뜨거운 물을 준비한다.\")\n",
    "    print(\"#2. (자동으로) 종이컵을 준비한다.\")\n",
    "    print(\"#3. (자동으로) f{}커피를 탄다.\")\n",
    "    print(\"#4. (자동으로) 물을 붓는다.\")\n",
    "    print(\"#5. (자동으로) 스푼으로 젓는다.\")\n",
    "\n",
    "def giveCoffee(coffee):\n",
    "    if coffee == 2:\n",
    "        "
   ]
  },
  {
   "cell_type": "code",
   "execution_count": null,
   "metadata": {},
   "outputs": [],
   "source": []
  }
 ],
 "metadata": {
  "language_info": {
   "name": "python"
  }
 },
 "nbformat": 4,
 "nbformat_minor": 2
}
