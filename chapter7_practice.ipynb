{
 "cells": [
  {
   "cell_type": "markdown",
   "metadata": {},
   "source": [
    "# 클래스 사용 순서\n",
    "1. 클래스 선언\n",
    "\n",
    "        class Car:\n",
    "            color = '' #객체 선언\n",
    "            def upSpeed(self, value): #메소드 선언\n",
    "\n",
    "2. 인스턴스 생성\n",
    "\n",
    "        myCar1 = Car() #인스턴스 = 클래스명()\n",
    "\n",
    "3. 객체나 메소드 사용\n",
    "\n",
    "        myCar1.color = 'red' #인스턴스.객체 = 값\n",
    "        myCar1.upSpeed(30)  #인스턴스.메서드()\n",
    "       "
   ]
  },
  {
   "cell_type": "markdown",
   "metadata": {},
   "source": [
    "# **복습 과제1**\n",
    "* 강의명: <Selena 한 번에 따라하는 파이썬 강의>"
   ]
  },
  {
   "cell_type": "markdown",
   "metadata": {},
   "source": [
    "## **1. 클래스 문제 (1)**\n",
    "\n",
    "* 클래스 선언\n",
    "\n"
   ]
  },
  {
   "cell_type": "code",
   "execution_count": 1,
   "metadata": {},
   "outputs": [],
   "source": [
    "# 1) Parents 클래스 선언\n",
    "#    - 생성자 선언 : name, role, job\n",
    "#    - 'print_info' 메소드 선언 : Parents 클래스 속성 출력\n",
    "\n",
    "class Parents:\n",
    "    def __init__(self, name, role, job):\n",
    "        self.name = name\n",
    "        self.role = role\n",
    "        self.job = job\n",
    "\n",
    "    def print_info(self):\n",
    "        print(\"================\")\n",
    "        print(\"Name: \", self.name)\n",
    "        print(\"Role: \", self.role)\n",
    "        print(\"Job: \", self.job)\n",
    "        print(\"================\")"
   ]
  },
  {
   "cell_type": "markdown",
   "metadata": {},
   "source": [
    "## **2. 클래스 문제 (2)**\n",
    "\n",
    "* 객체 선언\n",
    "\n"
   ]
  },
  {
   "cell_type": "code",
   "execution_count": 2,
   "metadata": {},
   "outputs": [
    {
     "name": "stdout",
     "output_type": "stream",
     "text": [
      "================\n",
      "Name:  Jay\n",
      "Role:  father\n",
      "Job:  engineer\n",
      "================\n"
     ]
    }
   ],
   "source": [
    "# 1) Parents 클래스 이용하여 father 객체 선언\n",
    "#    - name : Jay\n",
    "#    - role : father\n",
    "#    - job : engineer\n",
    "\n",
    "# cf) 이런 인스턴스 생성은 어느 시점에 해야하나?-> class 정의한 후!\n",
    "# blossom = PowerPuff()\n",
    "\n",
    "# cf2) 객체를 리스트로 정의하는 경우는 어떤 경우인가? -> 여러 개의 객체를 관리해야 할 때 등(GPT 참조)\n",
    "\n",
    "father = Parents('Jay', 'father', 'engineer')\n",
    "father.print_info()"
   ]
  },
  {
   "cell_type": "code",
   "execution_count": 3,
   "metadata": {},
   "outputs": [
    {
     "name": "stdout",
     "output_type": "stream",
     "text": [
      "================\n",
      "Name:  Mini\n",
      "Role:  mother\n",
      "Job:  data scientist\n",
      "================\n"
     ]
    }
   ],
   "source": [
    "# 2) Parents 클래스 이용하여 mother 객체 선언\n",
    "#    - name : Mini\n",
    "#    - role : mother\n",
    "#    - job : data scientist\n",
    "mother = Parents('Mini', 'mother', 'data scientist')\n",
    "mother.print_info()"
   ]
  },
  {
   "cell_type": "code",
   "execution_count": null,
   "metadata": {},
   "outputs": [],
   "source": [
    "# 1) father 객체에 print_info 메소드를 이용하여 속성 값 출력\n",
    "father.print_info()"
   ]
  },
  {
   "cell_type": "code",
   "execution_count": null,
   "metadata": {},
   "outputs": [],
   "source": [
    "# 2) mother 객체에 print_info 메소드를 이용하여 속성 값 출력\n"
   ]
  },
  {
   "cell_type": "markdown",
   "metadata": {},
   "source": [
    "## **4. 클래스 문제 (4)**\n",
    "\n",
    "* 상속을 위한 자식 클래스 선언\n",
    "\n"
   ]
  },
  {
   "cell_type": "code",
   "execution_count": 4,
   "metadata": {},
   "outputs": [],
   "source": [
    "# 1) Child 클래스 선언\n",
    "#    - Parents 클래스 이용하여 상속 받기\n",
    "#    - 'print_info' 메소드 재정의 \n",
    "#         * !Parents 클래스의 'print_info' 메소드 호출\n",
    "#         * Child 자체'print_info' 메소드 재정의\n",
    "#              - \"자식 클래스입니다.\" 문자열 출력\n",
    "\n",
    "class Child(Parents):\n",
    "    def print_info(self):\n",
    "        super().print_info()\n",
    "        print(\"자식 클래스입니다.\")"
   ]
  },
  {
   "cell_type": "markdown",
   "metadata": {},
   "source": [
    "## **5. 클래스 문제 (5)**\n",
    "\n",
    "* 객체 선언\n",
    "\n"
   ]
  },
  {
   "cell_type": "code",
   "execution_count": 5,
   "metadata": {},
   "outputs": [],
   "source": [
    "# 1) Child 클래스로 daughter 객체 생성\n",
    "#    - name : Bibi\n",
    "#    - role : daughter\n",
    "#    - job : elementary student\n",
    "daughter = Child('Bibi', 'daughter', 'elementary student')"
   ]
  },
  {
   "cell_type": "markdown",
   "metadata": {},
   "source": [
    "## **6. 클래스 문제 (6)**\n",
    "\n",
    "* 객체 속성 값 출력"
   ]
  },
  {
   "cell_type": "code",
   "execution_count": 6,
   "metadata": {},
   "outputs": [
    {
     "name": "stdout",
     "output_type": "stream",
     "text": [
      "================\n",
      "Name:  Bibi\n",
      "Role:  daughter\n",
      "Job:  elementary student\n",
      "================\n",
      "자식 클래스입니다.\n"
     ]
    }
   ],
   "source": [
    "# 1) daughter 객체에 print_info 메소드를 이용하여 속성 값 출력\n",
    "daughter.print_info()"
   ]
  },
  {
   "cell_type": "markdown",
   "metadata": {},
   "source": [
    "# **복습 과제2**\n",
    "* 도서명: <파워 유저를 위한 파이썬 EXPRESS>"
   ]
  },
  {
   "cell_type": "markdown",
   "metadata": {},
   "source": [
    "1. 원을 클래스로 표현해보자.@\n",
    "- 클래스 이름 Circle\n",
    "- 원을 초기화하는 생성자를 만들어야 한다.@\n",
    "- 원은 반지름을 속성으로 가진다.\n",
    "- 메소드로는 원의 넓이와 둘레를 반환하는 getArea(), getPerimeter()를 정의한다."
   ]
  },
  {
   "cell_type": "code",
   "execution_count": 9,
   "metadata": {},
   "outputs": [
    {
     "name": "stdout",
     "output_type": "stream",
     "text": [
      "원의 면적 314.1592653589793\n",
      "원의 둘레 62.83185307179586\n"
     ]
    }
   ],
   "source": [
    "import math\n",
    "\n",
    "class Circle:\n",
    "    def __init__(self, radius = 0):\n",
    "        self.radius = radius\n",
    "        \n",
    "    def getArea(self):\n",
    "        return math.pi * self.radius * self.radius\n",
    "    \n",
    "    def getPerimeter(self):\n",
    "        return 2 * math.pi * self.radius\n",
    "\n",
    "# Circle 객체 생성@\n",
    "c = Circle(10)\n",
    "print('원의 면적', c.getArea())\n",
    "print('원의 둘레', c.getPerimeter())"
   ]
  }
 ],
 "metadata": {
  "kernelspec": {
   "display_name": "base",
   "language": "python",
   "name": "python3"
  },
  "language_info": {
   "codemirror_mode": {
    "name": "ipython",
    "version": 3
   },
   "file_extension": ".py",
   "mimetype": "text/x-python",
   "name": "python",
   "nbconvert_exporter": "python",
   "pygments_lexer": "ipython3",
   "version": "3.8.8"
  }
 },
 "nbformat": 4,
 "nbformat_minor": 2
}
