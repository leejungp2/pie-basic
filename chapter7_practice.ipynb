{
 "cells": [
  {
   "cell_type": "markdown",
   "metadata": {},
   "source": [
    "# **패스트캠퍼스 강의 복습 과제**\n",
    "* 강의명: <Selena 한 번에 따라하는 파이썬 강의>"
   ]
  },
  {
   "cell_type": "markdown",
   "metadata": {},
   "source": [
    "## **1. 클래스 문제 (1)**\n",
    "\n",
    "* 클래스 선언\n",
    "\n"
   ]
  },
  {
   "cell_type": "code",
   "execution_count": 4,
   "metadata": {},
   "outputs": [
    {
     "ename": "AttributeError",
     "evalue": "'list' object has no attribute 'print_info'",
     "output_type": "error",
     "traceback": [
      "\u001b[0;31m---------------------------------------------------------------------------\u001b[0m",
      "\u001b[0;31mAttributeError\u001b[0m                            Traceback (most recent call last)",
      "\u001b[0;32m<ipython-input-4-6688845cc26e>\u001b[0m in \u001b[0;36m<module>\u001b[0;34m\u001b[0m\n\u001b[1;32m     27\u001b[0m \u001b[0;31m# buttercup = PowerPuff()\u001b[0m\u001b[0;34m\u001b[0m\u001b[0;34m\u001b[0m\u001b[0;34m\u001b[0m\u001b[0m\n\u001b[1;32m     28\u001b[0m \u001b[0;34m\u001b[0m\u001b[0m\n\u001b[0;32m---> 29\u001b[0;31m \u001b[0mparents\u001b[0m\u001b[0;34m.\u001b[0m\u001b[0mprint_info\u001b[0m\u001b[0;34m(\u001b[0m\u001b[0;34m)\u001b[0m\u001b[0;34m\u001b[0m\u001b[0;34m\u001b[0m\u001b[0m\n\u001b[0m",
      "\u001b[0;31mAttributeError\u001b[0m: 'list' object has no attribute 'print_info'"
     ]
    }
   ],
   "source": [
    "# 1) Parents 클래스 선언\n",
    "#    - 생성자 선언 : name, role, job\n",
    "#    - 'print_info' 메소드 선언 : Parents 클래스 속성 출력\n",
    "\n",
    "class Parents:\n",
    "    def __init__(self, name, role, job):\n",
    "        self.name = name\n",
    "        self.role = role\n",
    "        self.job = job\n",
    "\n",
    "    def print_info(self):\n",
    "        print(\"================\")\n",
    "        print(\"Name: \", self.name)\n",
    "        print(\"Role: \", self.role)\n",
    "        print(\"Job: \", self.job)\n",
    "        print(\"================\")\n",
    "\n",
    "parents = [\n",
    "    Parents(\"Chulsoo\", \"Dad\", \"Designer\"),\n",
    "    Parents(\"Yeonghee\", \"Mom\", \"Professor\"),\n",
    "    Parents(\"Bokja\", \"Grandma\", \"CEO\")\n",
    "]\n",
    "        \n",
    "# cf) 이런 인스턴스 생성은 어느 시점에 해야하나?\n",
    "# blossom = PowerPuff()\n",
    "# bubbles = PowerPuff()\n",
    "# buttercup = PowerPuff()\n",
    "\n",
    "parents.print_info()"
   ]
  },
  {
   "cell_type": "markdown",
   "metadata": {},
   "source": [
    "## **2. 클래스 문제 (2)**\n",
    "\n",
    "* 객체 선언\n",
    "\n"
   ]
  },
  {
   "cell_type": "code",
   "execution_count": null,
   "metadata": {},
   "outputs": [],
   "source": [
    "# 1) Parents 클래스 이용하여 father 객체 선언\n",
    "#    - name : Jay\n",
    "#    - role : father\n",
    "#    - job : engineer\n"
   ]
  },
  {
   "cell_type": "code",
   "execution_count": null,
   "metadata": {},
   "outputs": [],
   "source": [
    "# 2) Parents 클래스 이용하여 mother 객체 선언\n",
    "#    - name : Mini\n",
    "#    - role : mother\n",
    "#    - job : data scientist\n"
   ]
  },
  {
   "cell_type": "markdown",
   "metadata": {},
   "source": [
    "## **3. 클래스 문제 (3)**\n",
    "\n",
    "* 객체 속성 값 출력\n",
    "\n"
   ]
  },
  {
   "cell_type": "code",
   "execution_count": null,
   "metadata": {},
   "outputs": [],
   "source": [
    "# 1) father 객체에 print_info 메소드를 이용하여 속성 값 출력\n"
   ]
  },
  {
   "cell_type": "code",
   "execution_count": null,
   "metadata": {},
   "outputs": [],
   "source": [
    "# 2) mother 객체에 print_info 메소드를 이용하여 속성 값 출력\n"
   ]
  },
  {
   "cell_type": "markdown",
   "metadata": {},
   "source": [
    "## **4. 클래스 문제 (4)**\n",
    "\n",
    "* 상속을 위한 자식 클래스 선언\n",
    "\n"
   ]
  },
  {
   "cell_type": "code",
   "execution_count": null,
   "metadata": {},
   "outputs": [],
   "source": [
    "# 1) Child 클래스 선언\n",
    "#    - Parents 클래스 이용하여 상속 받기\n",
    "#    - 'print_info' 메소드 재정의 \n",
    "#         * Parents 클래스의 'print_info' 메소드 호출\n",
    "#         * Child 자체'print_info' 메소드 재정의\n",
    "#              - \"자식 클래스입니다.\" 문자열 출력\n",
    "\n",
    "\n",
    "\n"
   ]
  },
  {
   "cell_type": "markdown",
   "metadata": {},
   "source": [
    "## **5. 클래스 문제 (5)**\n",
    "\n",
    "* 객체 선언\n",
    "\n"
   ]
  },
  {
   "cell_type": "code",
   "execution_count": null,
   "metadata": {},
   "outputs": [],
   "source": [
    "# 1) Child 클래스로 daughter 객체 생성\n",
    "#    - name : Bibi\n",
    "#    - role : daughter\n",
    "#    - job : elementary student\n"
   ]
  },
  {
   "cell_type": "markdown",
   "metadata": {},
   "source": [
    "## **6. 클래스 문제 (6)**\n",
    "\n",
    "* 객체 속성 값 출력"
   ]
  },
  {
   "cell_type": "code",
   "execution_count": null,
   "metadata": {},
   "outputs": [],
   "source": [
    "# 1) daughter 객체에 print_info 메소드를 이용하여 속성 값 출력\n"
   ]
  },
  {
   "cell_type": "code",
   "execution_count": null,
   "metadata": {},
   "outputs": [],
   "source": [
    "def coffeeCall():\n",
    "    print(\"#1. (자동으로) 뜨거운 물을 준비한다.\")\n",
    "    print(\"#2. (자동으로) 종이컵을 준비한다.\")\n",
    "    print(\"#3. (자동으로) f{}커피를 탄다.\")\n",
    "    print(\"#4. (자동으로) 물을 붓는다.\")\n",
    "    print(\"#5. (자동으로) 스푼으로 젓는다.\")\n",
    "\n",
    "def giveCoffee(coffee):\n",
    "    if coffee == 2:\n",
    "        "
   ]
  },
  {
   "cell_type": "code",
   "execution_count": null,
   "metadata": {},
   "outputs": [],
   "source": []
  }
 ],
 "metadata": {
  "kernelspec": {
   "display_name": "base",
   "language": "python",
   "name": "python3"
  },
  "language_info": {
   "codemirror_mode": {
    "name": "ipython",
    "version": 3
   },
   "file_extension": ".py",
   "mimetype": "text/x-python",
   "name": "python",
   "nbconvert_exporter": "python",
   "pygments_lexer": "ipython3",
   "version": "3.8.8"
  }
 },
 "nbformat": 4,
 "nbformat_minor": 2
}
