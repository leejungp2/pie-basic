{
 "cells": [
  {
   "cell_type": "markdown",
   "metadata": {},
   "source": [
    "# Decorators\n",
    "\n",
    "A decorator is a closure function that takes a function(or a callable object) as an argument and return a function(or a callable object).\n",
    "        @quadratic\n",
    "        def my_func():\n",
    "            statements\n",
    "            return"
   ]
  },
  {
   "cell_type": "markdown",
   "metadata": {},
   "source": [
    "***\n",
    "***\n",
    "## 1. 파일 입출력\n",
    "***\n",
    "***\n",
    "- 파일을 열어서 읽고, 쓰고, 덧붙이는 방법\n",
    "  - open(filename, mode) 내장 함수로 filename 이름을 지닌 file 객체를 얻는다.\n",
    "  - 얻어진 파일 객체에서 자료를 읽거나, 쓰거나, 덧붙이는 작업 수행\n",
    "  - 모든 작업이 끝나면 close()를 호출하여 작업 프로세스의 자원 점유 해제"
   ]
  },
  {
   "cell_type": "markdown",
   "metadata": {},
   "source": [
    "### 파일 처리 모드의 종류\n",
    "- open 내장 함수의 두번째 인자 mode 설명\n",
    "  - 두번째 인자 mode 생략시에는 읽기 전용(r) 모드로 설정\n",
    "\n",
    "|  Mode  |          간단 설명        |    자세한 설명\n",
    "|--------|-----------------------------|------------|\n",
    "|  'r'   |          읽기 전용 (기본 모드)     | 파일 객체를 읽기 모드로 생성하고, 파일 포인터를 파일 처음 위치에 놓는다.|\n",
    "|  'w'   |          쓰기 전용        | 새로운 파일을 쓰기 모드로 생성하거나 해당 파일이 이미 존재하면 내용을 모두 없에면서 쓰기 모드로 생성하고, 파일 포인터를 파일 처음 위치에 놓는다. |\n",
    "|  'a'   |      파일 끝에 추가  | 이미 존재하는 파일을 쓰기 모드로 생성하거나 파일이 존재하지 않으면 새롭게 파일을 생성하면서 쓰기 모드로 생성하고,\n",
    "\n",
    "파일 포인터를 파일의 마지막 위치에 놓는다. 따라서, 이후 작성되는 내용은 파일의 뒷 부분에 추가된다.|\n",
    "\n",
    "  - 이진 파일로 저장을 위해서는 아래 모드 사용\n",
    "\n",
    "|  Mode  |          간단 설명        |\n",
    "|--------|-----------------------------|\n",
    "|  'rb'  |      이진 파일 읽기 전용 |\n",
    "|  'wb'  |      이진 파일 쓰기 전용 |\n",
    "|  'ab'  |      이진 파일 끝에 추가 |"
   ]
  },
  {
   "cell_type": "markdown",
   "metadata": {},
   "source": [
    "# lambda 함수\n",
    "\n",
    "  - 일반적인 함수를 한 줄의 문(Statement)으로 정의할 수 있는 새로운 함수 정의\n",
    "    - 함수 몸체에는 식(expression)만이 올 수 있다.\n",
    "  - 대부분의 경우 함수 이름을 정의하지 않으면서 일회성으로 활용할 함수를 정의할 때 활용\n",
    "  - 구문(syntax)\n",
    "    - lambda 콤마로 구분된 변수들: 식(expression)"
   ]
  }
 ],
 "metadata": {
  "language_info": {
   "name": "python"
  }
 },
 "nbformat": 4,
 "nbformat_minor": 2
}
