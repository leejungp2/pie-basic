{
 "cells": [
  {
   "cell_type": "markdown",
   "metadata": {},
   "source": [
    "# Chapter 0: 코딩 기초\n",
    "\n",
    "## 1. 주요 명령어\n",
    "\n",
    "### 1-1. 기본 명령어\n",
    "- %% : 코랩의 매직 키워드, 두 단어로 이루어진 명령어 필요\n",
    "- 매직 키워드 : 코랩 정식 명령어는 아니지만 사용 가능한 명령어\n",
    "- % : 코랩의 매직 키워드, 한 단어로 이루어지는 명령어\n",
    "- ls : 파일과 폴더의 이름을 보여 준다.\n",
    "- cd : 작업 폴더를 변경해 준다.\n",
    "- .  : 현재 폴더\n",
    "- .. : 상위 폴더\n",
    "- pwd : 현재 폴더의 이름을 출력\n",
    "- clear : 화면 지움\n",
    "\n",
    "### 1-2. 아나콘다 명령어\n",
    "- conda env list : 가상환경 목록 출력\n",
    "- conda deactivate :  가상환경 빠져 나오기\n",
    "- conda activate 가상환경이름 :  가상환경 들어가기\n",
    "- python 소스코드 파일: 아나콘다에서 파이썬 실행\n",
    "\n",
    "### 1-3. 파이썬 명령어\n",
    "- . : 속성 바인딩 연산자\n",
    "- 속성 = 데이터, 메서드(기능)\n",
    "- object = 데이터 + 기능 (MIT)"
   ]
  },
  {
   "cell_type": "markdown",
   "metadata": {},
   "source": [
    "## 파이썬 용어\n",
    "\n",
    "- 리터럴 (literal) : 값 자체\n",
    "- ( ) : 기능을 사용할때 사용\n",
    "- [ ] : 자료를 사용할때 사용\n",
    "- 문자 : 반드시 따옴표로 감싸준다."
   ]
  },
  {
   "cell_type": "markdown",
   "metadata": {},
   "source": [
    "# 예약어"
   ]
  },
  {
   "cell_type": "markdown",
   "metadata": {},
   "source": []
  }
 ],
 "metadata": {
  "language_info": {
   "name": "python"
  }
 },
 "nbformat": 4,
 "nbformat_minor": 2
}
